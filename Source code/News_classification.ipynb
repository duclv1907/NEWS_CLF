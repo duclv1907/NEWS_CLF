{
  "cells": [
    {
      "cell_type": "code",
      "execution_count": 1,
      "id": "ZhSO7pbdYL5z",
      "metadata": {
        "colab": {
          "base_uri": "https://localhost:8080/"
        },
        "id": "ZhSO7pbdYL5z",
        "outputId": "bf460813-98a0-4f10-9fd7-c8f58f04add9"
      },
      "outputs": [
        {
          "ename": "ModuleNotFoundError",
          "evalue": "No module named 'google.colab'",
          "output_type": "error",
          "traceback": [
            "\u001b[1;31m---------------------------------------------------------------------------\u001b[0m",
            "\u001b[1;31mModuleNotFoundError\u001b[0m                       Traceback (most recent call last)",
            "\u001b[1;32m~\\AppData\\Local\\Temp/ipykernel_18392/1408506528.py\u001b[0m in \u001b[0;36m<module>\u001b[1;34m\u001b[0m\n\u001b[1;32m----> 1\u001b[1;33m \u001b[1;32mfrom\u001b[0m \u001b[0mgoogle\u001b[0m\u001b[1;33m.\u001b[0m\u001b[0mcolab\u001b[0m \u001b[1;32mimport\u001b[0m \u001b[0mdrive\u001b[0m\u001b[1;33m\u001b[0m\u001b[1;33m\u001b[0m\u001b[0m\n\u001b[0m\u001b[0;32m      2\u001b[0m \u001b[0mdrive\u001b[0m\u001b[1;33m.\u001b[0m\u001b[0mmount\u001b[0m\u001b[1;33m(\u001b[0m\u001b[1;34m'/content/drive'\u001b[0m\u001b[1;33m)\u001b[0m\u001b[1;33m\u001b[0m\u001b[1;33m\u001b[0m\u001b[0m\n",
            "\u001b[1;31mModuleNotFoundError\u001b[0m: No module named 'google.colab'"
          ]
        }
      ],
      "source": [
        "from google.colab import drive\n",
        "drive.mount('/content/drive')"
      ]
    },
    {
      "cell_type": "code",
      "execution_count": null,
      "id": "bf541743",
      "metadata": {
        "colab": {
          "base_uri": "https://localhost:8080/"
        },
        "id": "bf541743",
        "outputId": "f4f90bc2-a89e-42e7-cb27-a225d00ad1e1"
      },
      "outputs": [
        {
          "name": "stdout",
          "output_type": "stream",
          "text": [
            "ok\n"
          ]
        }
      ],
      "source": [
        "import os\n",
        "from os import path\n",
        "import glob\n",
        "import pandas as pd\n",
        "\n",
        "d = pd.read_csv('/content/drive/MyDrive/DATA.csv', sep=',', encoding='utf-8')\n",
        "\n",
        "label = d['label']\n",
        "title = d['title']\n",
        "content = d['content']\n",
        "text = []\n",
        "for i in range (0, len(title)):\n",
        "  text.append(str(title[i]) +str(' ') + str(content[i]))\n",
        "print('ok')\n",
        "\n"
      ]
    },
    {
      "cell_type": "code",
      "execution_count": null,
      "id": "_4G025VMOZkq",
      "metadata": {
        "colab": {
          "base_uri": "https://localhost:8080/"
        },
        "id": "_4G025VMOZkq",
        "outputId": "dfce4887-5460-4d67-abed-a1201970f86a"
      },
      "outputs": [
        {
          "name": "stdout",
          "output_type": "stream",
          "text": [
            "Chính trị 2780\n",
            "Thời sự 421\n",
            "Doanh nghiệp 3905\n",
            "Kinh doanh 2108\n",
            "Bất động sản 3020\n",
            "Chứng khoán 2511\n",
            "Khoa học 4920\n",
            "Giải trí 8459\n",
            "Dân sinh 2355\n",
            "Giao thông 2560\n",
            "Pháp luật 2941\n",
            "Giáo dục 2855\n",
            "Sức khỏe 2842\n",
            "Thị trường 2404\n",
            "Thể thao 2606\n",
            "46687\n"
          ]
        }
      ],
      "source": [
        "i = {}\n",
        "label_select = []\n",
        "count = 0\n",
        "for d in label:\n",
        "    if d in i:\n",
        "        i[d] += 1;\n",
        "    else: \n",
        "        i[d] = 1\n",
        " \n",
        "    \n",
        "      \n",
        "for d in i: \n",
        "    if(i[d] > 100):\n",
        "        count +=i[d]\n",
        "        label_select.append(d)\n",
        "        print(str(d) + str(' ') + str(i[d]))\n",
        "\n",
        "\n",
        "print(count)"
      ]
    },
    {
      "cell_type": "code",
      "execution_count": null,
      "id": "RHYBA3qsnFEL",
      "metadata": {
        "id": "RHYBA3qsnFEL"
      },
      "outputs": [],
      "source": [
        "change_label = { \n",
        "'ChinhTri' : 'Chính trị',\n",
        "'DoanhNghiep': 'Doanh nghiệp',\n",
        "'BatDongSan': 'Bất động sản',\n",
        "'ChungKhoan': 'Chứng khoán',\n",
        "'PhatMinh': 'Khoa học',\n",
        "'Khoa hoc trong nuoc': 'Khoa học',\n",
        "'UngDung': 'Khoa học',\n",
        "'Phim' :'Giải trí',\n",
        "'Nhac': 'Giải trí',\n",
        "'Sach': 'Giải trí',\n",
        "'Gioisao': 'Giải trí', \n",
        "'DanSinh':'Dân sinh', \n",
        "'GiaoThong': 'Giao thông', \n",
        "'HoSoPhaAn': 'Pháp luật', \n",
        "'Phapluat' : 'Pháp luật',\n",
        "'DuHoc': 'Giáo dục', \n",
        "'KhoeDep': 'Sức khỏe',\n",
        "'DanOng' : 'Sức khỏe',\n",
        "'Tintuc': 'Sức khỏe', \n",
        "'ThiTruong': 'Thị trường', \n",
        "'BongDa':'Thể thao',\n",
        "'Affcup2020':'Thể thao',\n",
        "'Hautruong' :'Thể thao',\n",
        "'Tuongthuat':'Thể thao',\n",
        "'WorldCup2022':'Thể thao',\n",
        "'Euro2021':'Thể thao',\n",
        "'ThoiSu':'Thời sự',\n",
        "'Mekong' : 'Thời sự',\n",
        "'Ecommerce40' :'Kinh doanh',\n",
        "'ViMo':'Kinh doanh',\n",
        "'HangHoa' :'Kinh doanh',\n",
        "'Ebank' :'Kinh doanh',\n",
        "'QuocTe' :'Kinh doanh',\n",
        "'BaoHiem' :'Kinh doanh',\n",
        "'TienCuaToi' :'Kinh doanh',\n",
        "\n",
        "\n",
        "}"
      ]
    },
    {
      "cell_type": "code",
      "execution_count": null,
      "id": "_yhOS96Qd-KY",
      "metadata": {
        "colab": {
          "base_uri": "https://localhost:8080/"
        },
        "id": "_yhOS96Qd-KY",
        "outputId": "32833350-0ce6-4301-ea6e-b82c07d8ae00"
      },
      "outputs": [
        {
          "name": "stdout",
          "output_type": "stream",
          "text": [
            "46266\n",
            "46266\n"
          ]
        }
      ],
      "source": [
        "label2 = []\n",
        "text2 = []\n",
        "max = len(label)\n",
        "for i in range(0, max):\n",
        "    \n",
        "    if(label[i] in change_label):\n",
        "        label2.append(change_label[label[i]])\n",
        "        text2.append(text[i])\n",
        "print(len(label2))\n",
        "print(len(text2))"
      ]
    },
    {
      "cell_type": "code",
      "execution_count": null,
      "id": "uJmojvgJVMcN",
      "metadata": {
        "colab": {
          "base_uri": "https://localhost:8080/"
        },
        "id": "uJmojvgJVMcN",
        "outputId": "b0c71808-2930-4175-de10-c9b85d676d0d"
      },
      "outputs": [
        {
          "name": "stdout",
          "output_type": "stream",
          "text": [
            "{'Chính trị': 2780, 'Doanh nghiệp': 3905, 'Kinh doanh': 2108, 'Bất động sản': 3020, 'Chứng khoán': 2511, 'Khoa học': 4920, 'Giải trí': 8459, 'Dân sinh': 2355, 'Giao thông': 2560, 'Pháp luật': 2941, 'Giáo dục': 2855, 'Sức khỏe': 2842, 'Thị trường': 2404, 'Thể thao': 2606}\n"
          ]
        }
      ],
      "source": [
        "i = {}\n",
        "count = 0\n",
        "\n",
        "for d in label2:\n",
        "    if d in i:\n",
        "        i[d] += 1;\n",
        "    else: \n",
        "        i[d] = 1\n",
        "print (i)\n"
      ]
    },
    {
      "cell_type": "code",
      "execution_count": null,
      "id": "BWj0FGKuea0C",
      "metadata": {
        "colab": {
          "base_uri": "https://localhost:8080/"
        },
        "id": "BWj0FGKuea0C",
        "outputId": "32282b37-8fe3-4c35-e561-5dd25a52fe61"
      },
      "outputs": [
        {
          "name": "stdout",
          "output_type": "stream",
          "text": [
            "ok\n"
          ]
        }
      ],
      "source": [
        "label = label2\n",
        "text = text2\n",
        "print('ok')"
      ]
    },
    {
      "cell_type": "code",
      "execution_count": null,
      "id": "d10ee145",
      "metadata": {
        "colab": {
          "base_uri": "https://localhost:8080/"
        },
        "id": "d10ee145",
        "outputId": "65c5cb91-7ace-4e81-e46c-82a247be85d3"
      },
      "outputs": [
        {
          "name": "stdout",
          "output_type": "stream",
          "text": [
            "['Bất động sản', 'Chính trị', 'Chứng khoán', 'Doanh nghiệp', 'Dân sinh', 'Giao thông', 'Giáo dục', 'Giải trí', 'Khoa học', 'Kinh doanh', 'Pháp luật', 'Sức khỏe', 'Thể thao', 'Thị trường']\n"
          ]
        }
      ],
      "source": [
        "\n",
        "from sklearn.model_selection import train_test_split\n",
        "from sklearn.preprocessing import LabelEncoder\n",
        "\n",
        "test_percent = 0.2\n",
        "\n",
        "X_train, X_test, y_train, y_test = train_test_split(text, label, test_size=test_percent, random_state=42)\n",
        " \n",
        "# Lưu train/test data\n",
        "# Giữ nguyên train/test để về sau so sánh các mô hình cho công bằng\n",
        "with open('train.txt', 'w', encoding=\"UTF8\") as fp:\n",
        "    for x, y in zip(X_train, y_train):\n",
        "        fp.write('{} {}\\n'.format(y, x))\n",
        " \n",
        "with open('test.txt', 'w', encoding=\"UTF8\") as fp:\n",
        "    for x, y in zip(X_test, y_test):\n",
        "        fp.write('{} {}\\n'.format(y, x))\n",
        " \n",
        "# encode label\n",
        "label_encoder = LabelEncoder()\n",
        "label_encoder.fit(label)\n",
        "sum_label =list(label_encoder.classes_)\n",
        "# for i in label:\n",
        "#   sum_label\n",
        "y_train = label_encoder.transform(y_train)\n",
        "y_test = label_encoder.transform(y_test)\n",
        "print(sum_label)"
      ]
    },
    {
      "cell_type": "code",
      "execution_count": null,
      "id": "bb711d19",
      "metadata": {
        "colab": {
          "base_uri": "https://localhost:8080/"
        },
        "id": "bb711d19",
        "outputId": "16e98f5a-91a0-4768-dfb5-ae4a880b0165"
      },
      "outputs": [
        {
          "name": "stdout",
          "output_type": "stream",
          "text": [
            "Done training Naive Bayes in 22.030275583267212 seconds.\n"
          ]
        }
      ],
      "source": [
        "\n",
        "import pickle\n",
        "import time\n",
        "from sklearn.feature_extraction.text import CountVectorizer\n",
        "from sklearn.feature_extraction.text import TfidfTransformer\n",
        "from sklearn.naive_bayes import MultinomialNB\n",
        "from sklearn.pipeline import Pipeline\n",
        "\n",
        "MODEL_PATH = \"/content/Model\"\n",
        "start_time = time.time()\n",
        "text_clf = Pipeline([('vect', CountVectorizer(ngram_range=(1,1),\n",
        "                                             max_df=0.8,\n",
        "                                             max_features=None)), \n",
        "                     ('tfidf', TfidfTransformer()), \n",
        "                     ('clf', MultinomialNB())\n",
        "                    ])\n",
        "text_clf = text_clf.fit(X_train, y_train)\n",
        " \n",
        "train_time = time.time() - start_time\n",
        "print('Done training Naive Bayes in', train_time, 'seconds.')\n",
        " \n",
        "# Save model\n",
        "pickle.dump(text_clf, open(os.path.join(MODEL_PATH, \"naive_bayes.pkl\"), 'wb'))"
      ]
    },
    {
      "cell_type": "code",
      "execution_count": null,
      "id": "47d8f596",
      "metadata": {
        "colab": {
          "base_uri": "https://localhost:8080/"
        },
        "id": "47d8f596",
        "outputId": "270fa831-f0c7-41df-8d13-d439f9d4616d"
      },
      "outputs": [
        {
          "ename": "NameError",
          "evalue": "name 'pickle' is not defined",
          "output_type": "error",
          "traceback": [
            "\u001b[1;31m---------------------------------------------------------------------------\u001b[0m",
            "\u001b[1;31mNameError\u001b[0m                                 Traceback (most recent call last)",
            "\u001b[1;32m~\\AppData\\Local\\Temp/ipykernel_19736/1804204061.py\u001b[0m in \u001b[0;36m<module>\u001b[1;34m\u001b[0m\n\u001b[0;32m      1\u001b[0m \u001b[1;32mimport\u001b[0m \u001b[0mnumpy\u001b[0m \u001b[1;32mas\u001b[0m \u001b[0mnp\u001b[0m\u001b[1;33m\u001b[0m\u001b[1;33m\u001b[0m\u001b[0m\n\u001b[0;32m      2\u001b[0m \u001b[1;31m# Naive Bayes\u001b[0m\u001b[1;33m\u001b[0m\u001b[1;33m\u001b[0m\u001b[1;33m\u001b[0m\u001b[0m\n\u001b[1;32m----> 3\u001b[1;33m \u001b[0mmodel\u001b[0m \u001b[1;33m=\u001b[0m \u001b[0mpickle\u001b[0m\u001b[1;33m.\u001b[0m\u001b[0mload\u001b[0m\u001b[1;33m(\u001b[0m\u001b[0mopen\u001b[0m\u001b[1;33m(\u001b[0m\u001b[0mos\u001b[0m\u001b[1;33m.\u001b[0m\u001b[0mpath\u001b[0m\u001b[1;33m.\u001b[0m\u001b[0mjoin\u001b[0m\u001b[1;33m(\u001b[0m\u001b[0mMODEL_PATH\u001b[0m\u001b[1;33m,\u001b[0m\u001b[1;34m\"naive_bayes.pkl\"\u001b[0m\u001b[1;33m)\u001b[0m\u001b[1;33m,\u001b[0m \u001b[1;34m'rb'\u001b[0m\u001b[1;33m)\u001b[0m\u001b[1;33m)\u001b[0m\u001b[1;33m\u001b[0m\u001b[1;33m\u001b[0m\u001b[0m\n\u001b[0m\u001b[0;32m      4\u001b[0m \u001b[0my_pred\u001b[0m \u001b[1;33m=\u001b[0m \u001b[0mmodel\u001b[0m\u001b[1;33m.\u001b[0m\u001b[0mpredict\u001b[0m\u001b[1;33m(\u001b[0m\u001b[0mX_test\u001b[0m\u001b[1;33m)\u001b[0m\u001b[1;33m\u001b[0m\u001b[1;33m\u001b[0m\u001b[0m\n\u001b[0;32m      5\u001b[0m \u001b[0mprint\u001b[0m\u001b[1;33m(\u001b[0m\u001b[1;34m'Naive Bayes, Accuracy ='\u001b[0m\u001b[1;33m,\u001b[0m \u001b[0mnp\u001b[0m\u001b[1;33m.\u001b[0m\u001b[0mmean\u001b[0m\u001b[1;33m(\u001b[0m\u001b[0my_pred\u001b[0m \u001b[1;33m==\u001b[0m \u001b[0my_test\u001b[0m\u001b[1;33m)\u001b[0m\u001b[1;33m)\u001b[0m\u001b[1;33m\u001b[0m\u001b[1;33m\u001b[0m\u001b[0m\n",
            "\u001b[1;31mNameError\u001b[0m: name 'pickle' is not defined"
          ]
        }
      ],
      "source": [
        "import numpy as np\n",
        "# Naive Bayes\n",
        "model = pickle.load(open(os.path.join(MODEL_PATH,\"naive_bayes.pkl\"), 'rb'))\n",
        "y_pred = model.predict(X_test)\n",
        "print('Naive Bayes, Accuracy =', np.mean(y_pred == y_test))"
      ]
    },
    {
      "cell_type": "code",
      "execution_count": null,
      "id": "LNC1_xuDp7UF",
      "metadata": {
        "colab": {
          "base_uri": "https://localhost:8080/"
        },
        "id": "LNC1_xuDp7UF",
        "outputId": "4ce8d9b7-dacc-4187-f63f-c85a3891fd5c"
      },
      "outputs": [
        {
          "ename": "NameError",
          "evalue": "name 'y_test' is not defined",
          "output_type": "error",
          "traceback": [
            "\u001b[1;31m---------------------------------------------------------------------------\u001b[0m",
            "\u001b[1;31mNameError\u001b[0m                                 Traceback (most recent call last)",
            "\u001b[1;32m~\\AppData\\Local\\Temp/ipykernel_19736/3503175407.py\u001b[0m in \u001b[0;36m<module>\u001b[1;34m\u001b[0m\n\u001b[0;32m      1\u001b[0m \u001b[1;32mfrom\u001b[0m \u001b[0msklearn\u001b[0m\u001b[1;33m.\u001b[0m\u001b[0mmetrics\u001b[0m \u001b[1;32mimport\u001b[0m \u001b[0mclassification_report\u001b[0m\u001b[1;33m\u001b[0m\u001b[1;33m\u001b[0m\u001b[0m\n\u001b[1;32m----> 2\u001b[1;33m \u001b[0mprint\u001b[0m\u001b[1;33m(\u001b[0m\u001b[0mclassification_report\u001b[0m\u001b[1;33m(\u001b[0m\u001b[0my_test\u001b[0m\u001b[1;33m,\u001b[0m \u001b[0my_pred\u001b[0m\u001b[1;33m,\u001b[0m \u001b[0mtarget_names\u001b[0m\u001b[1;33m=\u001b[0m\u001b[0msum_label\u001b[0m\u001b[1;33m)\u001b[0m\u001b[1;33m)\u001b[0m\u001b[1;33m\u001b[0m\u001b[1;33m\u001b[0m\u001b[0m\n\u001b[0m",
            "\u001b[1;31mNameError\u001b[0m: name 'y_test' is not defined"
          ]
        }
      ],
      "source": [
        "from sklearn.metrics import classification_report\n",
        "print(classification_report(y_test, y_pred, target_names=sum_label))\n"
      ]
    },
    {
      "cell_type": "code",
      "execution_count": null,
      "id": "Z6zjsBs5Yr-c",
      "metadata": {
        "id": "Z6zjsBs5Yr-c"
      },
      "outputs": [
        {
          "ename": "NameError",
          "evalue": "name 'y_test' is not defined",
          "output_type": "error",
          "traceback": [
            "\u001b[1;31m---------------------------------------------------------------------------\u001b[0m",
            "\u001b[1;31mNameError\u001b[0m                                 Traceback (most recent call last)",
            "\u001b[1;32m~\\AppData\\Local\\Temp/ipykernel_19736/986956174.py\u001b[0m in \u001b[0;36m<module>\u001b[1;34m\u001b[0m\n\u001b[0;32m      7\u001b[0m     \u001b[0mcm\u001b[0m\u001b[1;33m[\u001b[0m\u001b[0my_test\u001b[0m\u001b[1;33m[\u001b[0m\u001b[0mn\u001b[0m\u001b[1;33m]\u001b[0m\u001b[1;33m,\u001b[0m \u001b[0my_pred\u001b[0m\u001b[1;33m[\u001b[0m\u001b[0mn\u001b[0m\u001b[1;33m]\u001b[0m\u001b[1;33m]\u001b[0m \u001b[1;33m+=\u001b[0m \u001b[1;36m1\u001b[0m\u001b[1;33m\u001b[0m\u001b[1;33m\u001b[0m\u001b[0m\n\u001b[0;32m      8\u001b[0m   \u001b[1;32mreturn\u001b[0m \u001b[0mcm\u001b[0m\u001b[1;33m\u001b[0m\u001b[1;33m\u001b[0m\u001b[0m\n\u001b[1;32m----> 9\u001b[1;33m \u001b[0mcm\u001b[0m \u001b[1;33m=\u001b[0m \u001b[0mc_m\u001b[0m\u001b[1;33m(\u001b[0m\u001b[0my_test\u001b[0m\u001b[1;33m,\u001b[0m \u001b[0my_pred\u001b[0m\u001b[1;33m)\u001b[0m\u001b[1;33m\u001b[0m\u001b[1;33m\u001b[0m\u001b[0m\n\u001b[0m\u001b[0;32m     10\u001b[0m \u001b[1;33m\u001b[0m\u001b[0m\n\u001b[0;32m     11\u001b[0m \u001b[1;33m\u001b[0m\u001b[0m\n",
            "\u001b[1;31mNameError\u001b[0m: name 'y_test' is not defined"
          ]
        }
      ],
      "source": [
        "\n",
        "import numpy as np\n",
        "\n",
        "def c_m(y_test, y_pred):\n",
        "  N = np.unique(y_test).shape[0]\n",
        "  cm = np.zeros((N, N))  \n",
        "  for n in range(y_test.shape[0]):\n",
        "    cm[y_test[n], y_pred[n]] += 1\n",
        "  return cm\n",
        "cm = c_m(y_test, y_pred)\n",
        "\n",
        "\n"
      ]
    },
    {
      "cell_type": "code",
      "execution_count": null,
      "id": "IjDkXyJ-m5Xu",
      "metadata": {
        "colab": {
          "base_uri": "https://localhost:8080/",
          "height": 1000
        },
        "id": "IjDkXyJ-m5Xu",
        "outputId": "4ab58f8c-5099-4224-8e62-2f8630746dd9"
      },
      "outputs": [
        {
          "data": {
            "image/png": "[encoded data removed]",
            "text/plain": [
              "<Figure size 1080x1080 with 2 Axes>"
            ]
          },
          "metadata": {
            "needs_background": "light"
          },
          "output_type": "display_data"
        }
      ],
      "source": [
        "import numpy as np\n",
        "\n",
        "\n",
        "def plot_confusion_matrix(cm,\n",
        "                          target_names,\n",
        "                          title='Confusion matrix',\n",
        "                          cmap=None,\n",
        "                          normalize=True):\n",
        "\n",
        "    import matplotlib.pyplot as plt\n",
        "    import numpy as np\n",
        "    import itertools\n",
        "\n",
        "    accuracy = np.trace(cm) / np.sum(cm).astype('int')\n",
        "    misclass = 1 - accuracy\n",
        "\n",
        "    if cmap is None:\n",
        "        cmap = plt.get_cmap('Blues')\n",
        "\n",
        "    plt.figure(figsize=(15, 15))\n",
        "    plt.imshow(cm, interpolation='nearest', cmap=cmap)\n",
        "    plt.title(title)\n",
        "    plt.colorbar()\n",
        "\n",
        "    if target_names is not None:\n",
        "        tick_marks = np.arange(len(target_names))\n",
        "        plt.xticks(tick_marks, target_names, rotation=45)\n",
        "        plt.yticks(tick_marks, target_names)\n",
        "\n",
        "\n",
        "\n",
        "\n",
        "    thresh = cm.max() / 1.5 if normalize else cm.max() / 2\n",
        "    for i, j in itertools.product(range(cm.shape[0]), range(cm.shape[1])):\n",
        "        if normalize:\n",
        "            plt.text(j, i, \"{:0.0f}\".format(cm[i, j]),\n",
        "                     horizontalalignment=\"center\",\n",
        "                     color=\"white\" if cm[i, j] > thresh else \"black\")\n",
        "        else:\n",
        "            plt.text(j, i, \"{:,}\".format(cm[i, j]),\n",
        "                     horizontalalignment=\"center\",\n",
        "                     color=\"white\" if cm[i, j] > thresh else \"black\")\n",
        "\n",
        "\n",
        "    plt.tight_layout()\n",
        "    plt.ylabel('True label')\n",
        "    plt.xlabel('Predicted label\\naccuracy={:0.4f}; misclass={:0.4f}'.format(accuracy, misclass))\n",
        "    plt.show()\n",
        "\n",
        "\n",
        "\n",
        "\n",
        "plot_confusion_matrix(cm,sum_label)\n"
      ]
    },
    {
      "cell_type": "code",
      "execution_count": null,
      "id": "FGWRin1xhDIY",
      "metadata": {
        "colab": {
          "base_uri": "https://localhost:8080/"
        },
        "id": "FGWRin1xhDIY",
        "outputId": "81af9a39-e2f0-40e9-f643-6c8e62a88a23"
      },
      "outputs": [
        {
          "name": "stdout",
          "output_type": "stream",
          "text": [
            "Done training Linear Classifier in 89.5555682182312 seconds.\n"
          ]
        }
      ],
      "source": [
        "from sklearn.linear_model import LogisticRegression\n",
        "import tensorflow as tf\n",
        "start_time = time.time()\n",
        "text_clf = Pipeline([('vect', CountVectorizer(ngram_range=(1,1),\n",
        "                                             max_df=0.8,\n",
        "                                             max_features=None)), \n",
        "                     ('tfidf', TfidfTransformer()),\n",
        "                     ('clf', LogisticRegression(solver='lbfgs', \n",
        "                                                multi_class='auto',\n",
        "                                                max_iter=10000))\n",
        "                    ])\n",
        "text_clf = text_clf.fit(X_train, y_train)\n",
        " \n",
        "train_time = time.time() - start_time\n",
        "print('Done training Linear Classifier in', train_time, 'seconds.')\n",
        " \n",
        "# Save model\n",
        "pickle.dump(text_clf, open(os.path.join(MODEL_PATH, \"linear_classifier.pkl\"), 'wb'))"
      ]
    },
    {
      "cell_type": "code",
      "execution_count": null,
      "id": "PdPxqE_vhzkF",
      "metadata": {
        "colab": {
          "base_uri": "https://localhost:8080/"
        },
        "id": "PdPxqE_vhzkF",
        "outputId": "65f0b7f7-6b6b-4d74-e9bd-a169344a384f"
      },
      "outputs": [
        {
          "name": "stdout",
          "output_type": "stream",
          "text": [
            "Linear Classifier, Accuracy = 0.9704228794915668\n"
          ]
        }
      ],
      "source": [
        "# import numpy as np\n",
        "# # Naive Bayes\n",
        "# model = pickle.load(open(os.path.join(MODEL_PATH,\"naive_bayes.pkl\"), 'rb'))\n",
        "# y_pred = model.predict(X_test)\n",
        "# print('Naive Bayes, Accuracy =', np.mean(y_pred == y_test))\n",
        " \n",
        "# Linear Classifier\n",
        "model = pickle.load(open(os.path.join(MODEL_PATH,\"linear_classifier.pkl\"), 'rb'))\n",
        "y_pred = model.predict(X_test)\n",
        "print('Linear Classifier, Accuracy =', np.mean(y_pred == y_test))\n",
        " \n",
        "# # SVM\n",
        "# model = pickle.load(open(os.path.join(MODEL_PATH,\"svm.pkl\"), 'rb'))\n",
        "# y_pred = model.predict(X_test)\n",
        "# print('SVM, Accuracy =', np.mean(y_pred == y_test))"
      ]
    },
    {
      "cell_type": "code",
      "execution_count": null,
      "id": "2-0CNzrOWDy2",
      "metadata": {
        "colab": {
          "base_uri": "https://localhost:8080/"
        },
        "id": "2-0CNzrOWDy2",
        "outputId": "9ca37aca-254a-46ae-dfaa-349efd5b827d"
      },
      "outputs": [
        {
          "name": "stdout",
          "output_type": "stream",
          "text": [
            "0.9594594594594594 0.9073482428115016\n"
          ]
        }
      ],
      "source": [
        "import numpy as np\n",
        "\n",
        "def cm2pr_binary(cm):\n",
        "  p =cm[0, 0]/ np.sum(cm[:, 0])\n",
        "  r = cm[0, 0]/np.sum(cm[0])\n",
        "  return p, r\n",
        "\n",
        "p,r = cm2pr_binary(cnf_matrix)\n",
        "print(p, r)\n"
      ]
    }
  ],
  "metadata": {
    "colab": {
      "name": "News_classification.ipynb",
      "provenance": []
    },
    "kernelspec": {
      "display_name": "Python 3 (ipykernel)",
      "language": "python",
      "name": "python3"
    },
    "language_info": {
      "codemirror_mode": {
        "name": "ipython",
        "version": 3
      },
      "file_extension": ".py",
      "mimetype": "text/x-python",
      "name": "python",
      "nbconvert_exporter": "python",
      "pygments_lexer": "ipython3",
      "version": "3.9.6"
    }
  },
  "nbformat": 4,
  "nbformat_minor": 5
}
